{
  "metadata": {
    "kernelspec": {
      "name": "python",
      "display_name": "Python (Pyodide)",
      "language": "python"
    },
    "language_info": {
      "codemirror_mode": {
        "name": "python",
        "version": 3
      },
      "file_extension": ".py",
      "mimetype": "text/x-python",
      "name": "python",
      "nbconvert_exporter": "python",
      "pygments_lexer": "ipython3",
      "version": "3.8"
    }
  },
  "nbformat_minor": 5,
  "nbformat": 4,
  "cells": [
    {
      "id": "ea402a60-803c-4fe6-a5f9-fb2e7b0ece32",
      "cell_type": "code",
      "source": "number = 5",
      "metadata": {
        "trusted": true
      },
      "outputs": [],
      "execution_count": 2
    },
    {
      "id": "381595a5-349d-467e-9ed7-d3a68000a274",
      "cell_type": "markdown",
      "source": "Variables in Python\n\nA variable is a name that stores a value\nYou create a variable using the = symbol\nThe variable can store different data types (e.g numbers, text)\n\nexample from python\nvariable_name = value",
      "metadata": {}
    },
    {
      "id": "0143fd4b-a305-4493-a599-94429f085301",
      "cell_type": "code",
      "source": "text = 'Hello World'",
      "metadata": {
        "trusted": true
      },
      "outputs": [],
      "execution_count": 3
    },
    {
      "id": "b2a0e8fe-c2ba-4d21-bba7-6d8210546e2b",
      "cell_type": "markdown",
      "source": "Strings in Python \n\nRepresent text not numbers\nA string must be enclosed in quotes (\"\" or '')\nStrings can be stored in variables\n\nexamples from pythonn\nstring_1 = \"I am a string\"\nstring_2 = 'I am also a string'\nstring_3 = 'This is not valid\" -> not valid as it is not inside the same quotes (' and \")",
      "metadata": {}
    },
    {
      "id": "aef22a59-2da4-417a-b9d3-d2d6c84a6a87",
      "cell_type": "code",
      "source": "print()",
      "metadata": {
        "trusted": true
      },
      "outputs": [
        {
          "name": "stdout",
          "output_type": "stream",
          "text": "\n"
        }
      ],
      "execution_count": 4
    },
    {
      "id": "fe103f23-4a99-4e15-ad7e-0c7f7ffcff6a",
      "cell_type": "markdown",
      "source": "Prints in python\n\nUsed to display output in Python\nWhatever is put in the brackets is showed on the screen\nUsefull for:\n>debugging\n>viewing variable values\n>displaying resutlts\n\nexample from python\ntext = 'Hello World'\nprint(text)\nwhat would show on screen would be Hello World",
      "metadata": {}
    },
    {
      "id": "a6aa6e7f-8ff4-4028-b5ce-c9128ce60766",
      "cell_type": "code",
      "source": "text = 'Hello World'\nprint(text[6])",
      "metadata": {
        "trusted": true
      },
      "outputs": [
        {
          "name": "stdout",
          "output_type": "stream",
          "text": "W\n"
        }
      ],
      "execution_count": 6
    },
    {
      "id": "7e7a7f06-b0e5-40b0-9acd-ac98b45ae3f4",
      "cell_type": "markdown",
      "source": "Numerical index\n\nEach character in a string can be accessed using a number\nPython starts counting from 0 not 1\n\nSo in the string 'Hello World' : \n>H is at position 0\n>e is at position 1 etc\n\nTo get a letter from a string, you can use square brackets [] after the variable name\nInside the brackets, you write the number [index] of the letter you want \n\nexample from python\ntext = 'Hello World'\nr = text[8]\n\napplication to what i have done: \ntext = 'Hello World'\nprint(text[6]) -> what is shown on the screen is the letter W the sixth letter\n\nYou can also access string characters starting from the end of the string\nOnly difference is in the square brackets you put -1 for the last character -2 for the second to last etc.\n\napplication to what i have done:\ntext = 'Hello World'\nprint(text[-1]) -> the letter that shows up on the screen is the letter d",
      "metadata": {}
    },
    {
      "id": "8f484d25-da04-4ac2-abb3-9125c2067627",
      "cell_type": "code",
      "source": "len()",
      "metadata": {
        "trusted": true
      },
      "outputs": [],
      "execution_count": null
    },
    {
      "id": "4cda6372-cd98-4e5b-8ba7-9ad4c4f52f8b",
      "cell_type": "markdown",
      "source": "To access the number of characters in a string (length) len() must be used\nThis includes all letters, spaces, and symbols\nUse len() by putting the string (or variable holding the string) inside the brackets\n\nexample from python\ntext = 'Hello World'\nprint(len(text)) -> what is shown on the screen would be 11 the number of letters and spaces included in 'Hello World' was counted",
      "metadata": {}
    },
    {
      "id": "9e460384-b46e-443c-bfe0-98ea11f7c2d0",
      "cell_type": "code",
      "source": "type()",
      "metadata": {
        "trusted": true
      },
      "outputs": [],
      "execution_count": null
    },
    {
      "id": "c1a1cc0d-02a6-4939-93fc-6a19f97ca68e",
      "cell_type": "markdown",
      "source": "We can use the type() function to check what kind of data is stored in a variable\nThis is done to know whether it is a string, number, list etc\nUse type() by putting the varibale inside the brackets as done with len()\n\nexample from python\ntext = 'Hello World'\nprint(type(text)) -> what is shown on the screen would be <class 'str'> this tells us that the text is a string",
      "metadata": {}
    },
    {
      "id": "6cede852-e70e-4b08-bcfa-a92ddd7ba420",
      "cell_type": "code",
      "source": "shift = value",
      "metadata": {
        "trusted": true
      },
      "outputs": [],
      "execution_count": null
    },
    {
      "id": "2bbd378b-d2d5-485e-be50-1e0622fd6d4b",
      "cell_type": "markdown",
      "source": "Creating a number variable\n\nWe can create a new variable to store a number\nIn this case, the variable is called shift and it stores the number 3\n\nexample from python\ntext = 'Hello World'\nshift = 3 -> shift is used as later letters will be shifted using this command\n\nNOTE: not every varibale will be called shift\n> any name can be used for a varibale like: age, score, price etc\n\nprint the variable:\ntext = 'Hello World'\nprint(type(text))\nshift = 3\nprint(shift) -> what shows on the screen is following the order:\n<class 'str'>\n3\n\nto modify the varibale to print the shift variable\ntext = 'Hello World'\nprint(type(text))\nshift = 3\nprint(type(shift))\nNEED TO REMOVE THE PRINT(SHIFT) AS IT CAUSES A MISMATCH WHEN MODIFYING",
      "metadata": {}
    },
    {
      "id": "ac313ba9-95cb-477c-b222-7716612987a2",
      "cell_type": "code",
      "source": "alphabet = \"abcdefghijklmnopqrstuvwxyz\"",
      "metadata": {
        "trusted": true
      },
      "outputs": [],
      "execution_count": null
    },
    {
      "id": "da3d72a0-9d92-440b-a494-317512dd6806",
      "cell_type": "markdown",
      "source": "Variable naming in python\n\n> some words cannot be used as variable names. These are called reserved keywords like: for, while, True\n> variable names cannot start with a number. they can only have letters, numbers, or underscores\n> variable names are case-sensitive example: my_var is different from my_Var or MY_VAR\n> it is common to write variable names using snake_case. this means using only lowercase letters and underscores instead of spaces.\n\ntask in lesson : Remove both calls to print() and declare another variable called alphabet. Assign the string 'abcdefghijklmnopqrstuvwxyz' to this variable.\n\napplication in what i have done:\ntext = 'Hello World'\nalphabet = \"abcdefghijklmnopqrstuvwxyz\"",
      "metadata": {}
    },
    {
      "id": "a6ec85e7-7ce8-4b72-bf53-0c73b241d564",
      "cell_type": "code",
      "source": ".find()",
      "metadata": {
        "trusted": true
      },
      "outputs": [],
      "execution_count": null
    },
    {
      "id": "c6e7166a-9295-4754-b0cc-b02abf888490",
      "cell_type": "markdown",
      "source": "Using the .find() method\n\nThe find() method is used to find the position of a character in a string\nIt works like a function but is called on a string object\n\nexample from python\nsentence = 'My brain hurts!'\nsentence.find('r')\n\nThis will return the index of the first 'r' in the sentence. in this case it would return 4\n\napplication to what i have done:\ntext = 'Hello World'\nshift = 3\nalphabet = 'abcdefghijklmnopqrstuvwxyz'\nalphabet.find(\"z\") -> this would show 25 on the screen as indexing starts at 0 -> REMEMBER TO USE QUOTATION MARKS WHETHER ONE OR TWO TYPE\n\nUsing text[0] inside .find()\nIn python we use square brackets to get a specific character from a string\n\nexample:\ntext = 'Hello World'\ntext[0] would give us the first letter which would be H\n\nIn the python example when it says alphabet.find(text[0]) it means:\n> get the first letter of the message (text[0])\n> find where that letter appears in the alhpabet 'alphabet'\n\nNOTE: IF THE LETTER IN TEXT[0] IS UPPERCASE (LIKE H) AND ALPHABET IS ALL LOWERCASE IT WILL NOT FIND A MATCH",
      "metadata": {}
    }
  ]
}
